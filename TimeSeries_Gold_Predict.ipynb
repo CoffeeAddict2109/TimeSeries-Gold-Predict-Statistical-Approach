{
  "nbformat": 4,
  "nbformat_minor": 0,
  "metadata": {
    "colab": {
      "provenance": [],
      "mount_file_id": "1DcrrjoVoumLQd5tcm2zbnuWM6n5scw18",
      "authorship_tag": "ABX9TyPAvU1OMb4HCmvm3IeXieEO",
      "include_colab_link": true
    },
    "kernelspec": {
      "name": "python3",
      "display_name": "Python 3"
    },
    "language_info": {
      "name": "python"
    }
  },
  "cells": [
    {
      "cell_type": "markdown",
      "metadata": {
        "id": "view-in-github",
        "colab_type": "text"
      },
      "source": [
        "<a href=\"https://colab.research.google.com/github/CoffeeAddict2109/TimeSeries-Gold-Predict-Statistical-Approach/blob/main/TimeSeries_Gold_Predict.ipynb\" target=\"_parent\"><img src=\"https://colab.research.google.com/assets/colab-badge.svg\" alt=\"Open In Colab\"/></a>"
      ]
    },
    {
      "cell_type": "code",
      "execution_count": null,
      "metadata": {
        "id": "EC_aqsEZed3V",
        "colab": {
          "base_uri": "https://localhost:8080/"
        },
        "outputId": "19bed4ca-8aaa-4e90-8b1d-4e8fe12549ca"
      },
      "outputs": [
        {
          "output_type": "stream",
          "name": "stderr",
          "text": [
            "/usr/local/lib/python3.7/dist-packages/statsmodels/tools/_testing.py:19: FutureWarning: pandas.util.testing is deprecated. Use the functions in the public API at pandas.testing instead.\n",
            "  import pandas.util.testing as tm\n"
          ]
        }
      ],
      "source": [
        "import pandas as pd\n",
        "import numpy as np\n",
        "import matplotlib.pyplot as plt\n",
        "%matplotlib inline\n",
        "from datetime import datetime\n",
        "from statsmodels.tsa.stattools import adfuller\n",
        "plt.rcParams['figure.figsize'] = 20, 8            #agar semua plot ukurannya sama\n",
        "from statsmodels.graphics.tsaplots import plot_acf\n",
        "from statsmodels.graphics.tsaplots import plot_pacf\n",
        "from statsmodels.tsa.arima_model import ARIMA\n",
        "from statsmodels.tsa.statespace.sarimax import SARIMAX\n",
        "import warnings\n",
        "from sklearn.metrics import mean_squared_error\n",
        "from math import sqrt\n",
        "from statsmodels.tsa.seasonal import seasonal_decompose"
      ]
    },
    {
      "cell_type": "code",
      "source": [
        "data = pd.read_csv('/content/drive/MyDrive/Dataset/FINAL_USO.csv')\n",
        "data.head()"
      ],
      "metadata": {
        "colab": {
          "base_uri": "https://localhost:8080/",
          "height": 490
        },
        "id": "qNkcktG4epbI",
        "outputId": "e87718bf-dee2-4950-d091-9032774581d6"
      },
      "execution_count": null,
      "outputs": [
        {
          "output_type": "execute_result",
          "data": {
            "text/plain": [
              "         Date        Open        High         Low       Close   Adj Close  \\\n",
              "0  2011-12-15  154.740005  154.949997  151.710007  152.330002  152.330002   \n",
              "1  2011-12-16  154.309998  155.369995  153.899994  155.229996  155.229996   \n",
              "2  2011-12-19  155.479996  155.860001  154.360001  154.869995  154.869995   \n",
              "3  2011-12-20  156.820007  157.429993  156.580002  156.979996  156.979996   \n",
              "4  2011-12-21  156.979996  157.529999  156.130005  157.160004  157.160004   \n",
              "\n",
              "     Volume     SP_open     SP_high      SP_low  ...    GDX_Low  GDX_Close  \\\n",
              "0  21521900  123.029999  123.199997  121.989998  ...  51.570000  51.680000   \n",
              "1  18124300  122.230003  122.949997  121.300003  ...  52.040001  52.680000   \n",
              "2  12547200  122.059998  122.320000  120.029999  ...  51.029999  51.169998   \n",
              "3   9136300  122.180000  124.139999  120.370003  ...  52.369999  52.990002   \n",
              "4  11996100  123.930000  124.360001  122.750000  ...  52.419998  52.959999   \n",
              "\n",
              "   GDX_Adj Close  GDX_Volume   USO_Open   USO_High    USO_Low  USO_Close  \\\n",
              "0      48.973877    20605600  36.900002  36.939999  36.049999  36.130001   \n",
              "1      49.921513    16285400  36.180000  36.500000  35.730000  36.270000   \n",
              "2      48.490578    15120200  36.389999  36.450001  35.930000  36.200001   \n",
              "3      50.215282    11644900  37.299999  37.610001  37.220001  37.560001   \n",
              "4      50.186852     8724300  37.669998  38.240002  37.520000  38.110001   \n",
              "\n",
              "   USO_Adj Close  USO_Volume  \n",
              "0      36.130001    12616700  \n",
              "1      36.270000    12578800  \n",
              "2      36.200001     7418200  \n",
              "3      37.560001    10041600  \n",
              "4      38.110001    10728000  \n",
              "\n",
              "[5 rows x 81 columns]"
            ],
            "text/html": [
              "\n",
              "  <div id=\"df-f3db0791-d3e3-4ad4-8e1c-2acbe2541ddf\">\n",
              "    <div class=\"colab-df-container\">\n",
              "      <div>\n",
              "<style scoped>\n",
              "    .dataframe tbody tr th:only-of-type {\n",
              "        vertical-align: middle;\n",
              "    }\n",
              "\n",
              "    .dataframe tbody tr th {\n",
              "        vertical-align: top;\n",
              "    }\n",
              "\n",
              "    .dataframe thead th {\n",
              "        text-align: right;\n",
              "    }\n",
              "</style>\n",
              "<table border=\"1\" class=\"dataframe\">\n",
              "  <thead>\n",
              "    <tr style=\"text-align: right;\">\n",
              "      <th></th>\n",
              "      <th>Date</th>\n",
              "      <th>Open</th>\n",
              "      <th>High</th>\n",
              "      <th>Low</th>\n",
              "      <th>Close</th>\n",
              "      <th>Adj Close</th>\n",
              "      <th>Volume</th>\n",
              "      <th>SP_open</th>\n",
              "      <th>SP_high</th>\n",
              "      <th>SP_low</th>\n",
              "      <th>...</th>\n",
              "      <th>GDX_Low</th>\n",
              "      <th>GDX_Close</th>\n",
              "      <th>GDX_Adj Close</th>\n",
              "      <th>GDX_Volume</th>\n",
              "      <th>USO_Open</th>\n",
              "      <th>USO_High</th>\n",
              "      <th>USO_Low</th>\n",
              "      <th>USO_Close</th>\n",
              "      <th>USO_Adj Close</th>\n",
              "      <th>USO_Volume</th>\n",
              "    </tr>\n",
              "  </thead>\n",
              "  <tbody>\n",
              "    <tr>\n",
              "      <th>0</th>\n",
              "      <td>2011-12-15</td>\n",
              "      <td>154.740005</td>\n",
              "      <td>154.949997</td>\n",
              "      <td>151.710007</td>\n",
              "      <td>152.330002</td>\n",
              "      <td>152.330002</td>\n",
              "      <td>21521900</td>\n",
              "      <td>123.029999</td>\n",
              "      <td>123.199997</td>\n",
              "      <td>121.989998</td>\n",
              "      <td>...</td>\n",
              "      <td>51.570000</td>\n",
              "      <td>51.680000</td>\n",
              "      <td>48.973877</td>\n",
              "      <td>20605600</td>\n",
              "      <td>36.900002</td>\n",
              "      <td>36.939999</td>\n",
              "      <td>36.049999</td>\n",
              "      <td>36.130001</td>\n",
              "      <td>36.130001</td>\n",
              "      <td>12616700</td>\n",
              "    </tr>\n",
              "    <tr>\n",
              "      <th>1</th>\n",
              "      <td>2011-12-16</td>\n",
              "      <td>154.309998</td>\n",
              "      <td>155.369995</td>\n",
              "      <td>153.899994</td>\n",
              "      <td>155.229996</td>\n",
              "      <td>155.229996</td>\n",
              "      <td>18124300</td>\n",
              "      <td>122.230003</td>\n",
              "      <td>122.949997</td>\n",
              "      <td>121.300003</td>\n",
              "      <td>...</td>\n",
              "      <td>52.040001</td>\n",
              "      <td>52.680000</td>\n",
              "      <td>49.921513</td>\n",
              "      <td>16285400</td>\n",
              "      <td>36.180000</td>\n",
              "      <td>36.500000</td>\n",
              "      <td>35.730000</td>\n",
              "      <td>36.270000</td>\n",
              "      <td>36.270000</td>\n",
              "      <td>12578800</td>\n",
              "    </tr>\n",
              "    <tr>\n",
              "      <th>2</th>\n",
              "      <td>2011-12-19</td>\n",
              "      <td>155.479996</td>\n",
              "      <td>155.860001</td>\n",
              "      <td>154.360001</td>\n",
              "      <td>154.869995</td>\n",
              "      <td>154.869995</td>\n",
              "      <td>12547200</td>\n",
              "      <td>122.059998</td>\n",
              "      <td>122.320000</td>\n",
              "      <td>120.029999</td>\n",
              "      <td>...</td>\n",
              "      <td>51.029999</td>\n",
              "      <td>51.169998</td>\n",
              "      <td>48.490578</td>\n",
              "      <td>15120200</td>\n",
              "      <td>36.389999</td>\n",
              "      <td>36.450001</td>\n",
              "      <td>35.930000</td>\n",
              "      <td>36.200001</td>\n",
              "      <td>36.200001</td>\n",
              "      <td>7418200</td>\n",
              "    </tr>\n",
              "    <tr>\n",
              "      <th>3</th>\n",
              "      <td>2011-12-20</td>\n",
              "      <td>156.820007</td>\n",
              "      <td>157.429993</td>\n",
              "      <td>156.580002</td>\n",
              "      <td>156.979996</td>\n",
              "      <td>156.979996</td>\n",
              "      <td>9136300</td>\n",
              "      <td>122.180000</td>\n",
              "      <td>124.139999</td>\n",
              "      <td>120.370003</td>\n",
              "      <td>...</td>\n",
              "      <td>52.369999</td>\n",
              "      <td>52.990002</td>\n",
              "      <td>50.215282</td>\n",
              "      <td>11644900</td>\n",
              "      <td>37.299999</td>\n",
              "      <td>37.610001</td>\n",
              "      <td>37.220001</td>\n",
              "      <td>37.560001</td>\n",
              "      <td>37.560001</td>\n",
              "      <td>10041600</td>\n",
              "    </tr>\n",
              "    <tr>\n",
              "      <th>4</th>\n",
              "      <td>2011-12-21</td>\n",
              "      <td>156.979996</td>\n",
              "      <td>157.529999</td>\n",
              "      <td>156.130005</td>\n",
              "      <td>157.160004</td>\n",
              "      <td>157.160004</td>\n",
              "      <td>11996100</td>\n",
              "      <td>123.930000</td>\n",
              "      <td>124.360001</td>\n",
              "      <td>122.750000</td>\n",
              "      <td>...</td>\n",
              "      <td>52.419998</td>\n",
              "      <td>52.959999</td>\n",
              "      <td>50.186852</td>\n",
              "      <td>8724300</td>\n",
              "      <td>37.669998</td>\n",
              "      <td>38.240002</td>\n",
              "      <td>37.520000</td>\n",
              "      <td>38.110001</td>\n",
              "      <td>38.110001</td>\n",
              "      <td>10728000</td>\n",
              "    </tr>\n",
              "  </tbody>\n",
              "</table>\n",
              "<p>5 rows × 81 columns</p>\n",
              "</div>\n",
              "      <button class=\"colab-df-convert\" onclick=\"convertToInteractive('df-f3db0791-d3e3-4ad4-8e1c-2acbe2541ddf')\"\n",
              "              title=\"Convert this dataframe to an interactive table.\"\n",
              "              style=\"display:none;\">\n",
              "        \n",
              "  <svg xmlns=\"http://www.w3.org/2000/svg\" height=\"24px\"viewBox=\"0 0 24 24\"\n",
              "       width=\"24px\">\n",
              "    <path d=\"M0 0h24v24H0V0z\" fill=\"none\"/>\n",
              "    <path d=\"M18.56 5.44l.94 2.06.94-2.06 2.06-.94-2.06-.94-.94-2.06-.94 2.06-2.06.94zm-11 1L8.5 8.5l.94-2.06 2.06-.94-2.06-.94L8.5 2.5l-.94 2.06-2.06.94zm10 10l.94 2.06.94-2.06 2.06-.94-2.06-.94-.94-2.06-.94 2.06-2.06.94z\"/><path d=\"M17.41 7.96l-1.37-1.37c-.4-.4-.92-.59-1.43-.59-.52 0-1.04.2-1.43.59L10.3 9.45l-7.72 7.72c-.78.78-.78 2.05 0 2.83L4 21.41c.39.39.9.59 1.41.59.51 0 1.02-.2 1.41-.59l7.78-7.78 2.81-2.81c.8-.78.8-2.07 0-2.86zM5.41 20L4 18.59l7.72-7.72 1.47 1.35L5.41 20z\"/>\n",
              "  </svg>\n",
              "      </button>\n",
              "      \n",
              "  <style>\n",
              "    .colab-df-container {\n",
              "      display:flex;\n",
              "      flex-wrap:wrap;\n",
              "      gap: 12px;\n",
              "    }\n",
              "\n",
              "    .colab-df-convert {\n",
              "      background-color: #E8F0FE;\n",
              "      border: none;\n",
              "      border-radius: 50%;\n",
              "      cursor: pointer;\n",
              "      display: none;\n",
              "      fill: #1967D2;\n",
              "      height: 32px;\n",
              "      padding: 0 0 0 0;\n",
              "      width: 32px;\n",
              "    }\n",
              "\n",
              "    .colab-df-convert:hover {\n",
              "      background-color: #E2EBFA;\n",
              "      box-shadow: 0px 1px 2px rgba(60, 64, 67, 0.3), 0px 1px 3px 1px rgba(60, 64, 67, 0.15);\n",
              "      fill: #174EA6;\n",
              "    }\n",
              "\n",
              "    [theme=dark] .colab-df-convert {\n",
              "      background-color: #3B4455;\n",
              "      fill: #D2E3FC;\n",
              "    }\n",
              "\n",
              "    [theme=dark] .colab-df-convert:hover {\n",
              "      background-color: #434B5C;\n",
              "      box-shadow: 0px 1px 3px 1px rgba(0, 0, 0, 0.15);\n",
              "      filter: drop-shadow(0px 1px 2px rgba(0, 0, 0, 0.3));\n",
              "      fill: #FFFFFF;\n",
              "    }\n",
              "  </style>\n",
              "\n",
              "      <script>\n",
              "        const buttonEl =\n",
              "          document.querySelector('#df-f3db0791-d3e3-4ad4-8e1c-2acbe2541ddf button.colab-df-convert');\n",
              "        buttonEl.style.display =\n",
              "          google.colab.kernel.accessAllowed ? 'block' : 'none';\n",
              "\n",
              "        async function convertToInteractive(key) {\n",
              "          const element = document.querySelector('#df-f3db0791-d3e3-4ad4-8e1c-2acbe2541ddf');\n",
              "          const dataTable =\n",
              "            await google.colab.kernel.invokeFunction('convertToInteractive',\n",
              "                                                     [key], {});\n",
              "          if (!dataTable) return;\n",
              "\n",
              "          const docLinkHtml = 'Like what you see? Visit the ' +\n",
              "            '<a target=\"_blank\" href=https://colab.research.google.com/notebooks/data_table.ipynb>data table notebook</a>'\n",
              "            + ' to learn more about interactive tables.';\n",
              "          element.innerHTML = '';\n",
              "          dataTable['output_type'] = 'display_data';\n",
              "          await google.colab.output.renderOutput(dataTable, element);\n",
              "          const docLink = document.createElement('div');\n",
              "          docLink.innerHTML = docLinkHtml;\n",
              "          element.appendChild(docLink);\n",
              "        }\n",
              "      </script>\n",
              "    </div>\n",
              "  </div>\n",
              "  "
            ]
          },
          "metadata": {},
          "execution_count": 2
        }
      ]
    },
    {
      "cell_type": "code",
      "source": [
        "len(data)"
      ],
      "metadata": {
        "colab": {
          "base_uri": "https://localhost:8080/"
        },
        "id": "IYJJTLI7gKr-",
        "outputId": "6f73a5c4-c87a-44ff-d4d1-932dde1467c2"
      },
      "execution_count": null,
      "outputs": [
        {
          "output_type": "execute_result",
          "data": {
            "text/plain": [
              "1718"
            ]
          },
          "metadata": {},
          "execution_count": 3
        }
      ]
    },
    {
      "cell_type": "code",
      "source": [
        "data = data[['Date','Close']]\n",
        "data"
      ],
      "metadata": {
        "colab": {
          "base_uri": "https://localhost:8080/",
          "height": 424
        },
        "id": "J2BmCEuuGW1b",
        "outputId": "6d23eb94-3857-4d93-c861-0e478611ed92"
      },
      "execution_count": null,
      "outputs": [
        {
          "output_type": "execute_result",
          "data": {
            "text/plain": [
              "            Date       Close\n",
              "0     2011-12-15  152.330002\n",
              "1     2011-12-16  155.229996\n",
              "2     2011-12-19  154.869995\n",
              "3     2011-12-20  156.979996\n",
              "4     2011-12-21  157.160004\n",
              "...          ...         ...\n",
              "1713  2018-12-24  120.019997\n",
              "1714  2018-12-26  119.660004\n",
              "1715  2018-12-27  120.570000\n",
              "1716  2018-12-28  121.059998\n",
              "1717  2018-12-31  121.250000\n",
              "\n",
              "[1718 rows x 2 columns]"
            ],
            "text/html": [
              "\n",
              "  <div id=\"df-69258ff8-cfa3-483d-89f2-2fe7fcf02a89\">\n",
              "    <div class=\"colab-df-container\">\n",
              "      <div>\n",
              "<style scoped>\n",
              "    .dataframe tbody tr th:only-of-type {\n",
              "        vertical-align: middle;\n",
              "    }\n",
              "\n",
              "    .dataframe tbody tr th {\n",
              "        vertical-align: top;\n",
              "    }\n",
              "\n",
              "    .dataframe thead th {\n",
              "        text-align: right;\n",
              "    }\n",
              "</style>\n",
              "<table border=\"1\" class=\"dataframe\">\n",
              "  <thead>\n",
              "    <tr style=\"text-align: right;\">\n",
              "      <th></th>\n",
              "      <th>Date</th>\n",
              "      <th>Close</th>\n",
              "    </tr>\n",
              "  </thead>\n",
              "  <tbody>\n",
              "    <tr>\n",
              "      <th>0</th>\n",
              "      <td>2011-12-15</td>\n",
              "      <td>152.330002</td>\n",
              "    </tr>\n",
              "    <tr>\n",
              "      <th>1</th>\n",
              "      <td>2011-12-16</td>\n",
              "      <td>155.229996</td>\n",
              "    </tr>\n",
              "    <tr>\n",
              "      <th>2</th>\n",
              "      <td>2011-12-19</td>\n",
              "      <td>154.869995</td>\n",
              "    </tr>\n",
              "    <tr>\n",
              "      <th>3</th>\n",
              "      <td>2011-12-20</td>\n",
              "      <td>156.979996</td>\n",
              "    </tr>\n",
              "    <tr>\n",
              "      <th>4</th>\n",
              "      <td>2011-12-21</td>\n",
              "      <td>157.160004</td>\n",
              "    </tr>\n",
              "    <tr>\n",
              "      <th>...</th>\n",
              "      <td>...</td>\n",
              "      <td>...</td>\n",
              "    </tr>\n",
              "    <tr>\n",
              "      <th>1713</th>\n",
              "      <td>2018-12-24</td>\n",
              "      <td>120.019997</td>\n",
              "    </tr>\n",
              "    <tr>\n",
              "      <th>1714</th>\n",
              "      <td>2018-12-26</td>\n",
              "      <td>119.660004</td>\n",
              "    </tr>\n",
              "    <tr>\n",
              "      <th>1715</th>\n",
              "      <td>2018-12-27</td>\n",
              "      <td>120.570000</td>\n",
              "    </tr>\n",
              "    <tr>\n",
              "      <th>1716</th>\n",
              "      <td>2018-12-28</td>\n",
              "      <td>121.059998</td>\n",
              "    </tr>\n",
              "    <tr>\n",
              "      <th>1717</th>\n",
              "      <td>2018-12-31</td>\n",
              "      <td>121.250000</td>\n",
              "    </tr>\n",
              "  </tbody>\n",
              "</table>\n",
              "<p>1718 rows × 2 columns</p>\n",
              "</div>\n",
              "      <button class=\"colab-df-convert\" onclick=\"convertToInteractive('df-69258ff8-cfa3-483d-89f2-2fe7fcf02a89')\"\n",
              "              title=\"Convert this dataframe to an interactive table.\"\n",
              "              style=\"display:none;\">\n",
              "        \n",
              "  <svg xmlns=\"http://www.w3.org/2000/svg\" height=\"24px\"viewBox=\"0 0 24 24\"\n",
              "       width=\"24px\">\n",
              "    <path d=\"M0 0h24v24H0V0z\" fill=\"none\"/>\n",
              "    <path d=\"M18.56 5.44l.94 2.06.94-2.06 2.06-.94-2.06-.94-.94-2.06-.94 2.06-2.06.94zm-11 1L8.5 8.5l.94-2.06 2.06-.94-2.06-.94L8.5 2.5l-.94 2.06-2.06.94zm10 10l.94 2.06.94-2.06 2.06-.94-2.06-.94-.94-2.06-.94 2.06-2.06.94z\"/><path d=\"M17.41 7.96l-1.37-1.37c-.4-.4-.92-.59-1.43-.59-.52 0-1.04.2-1.43.59L10.3 9.45l-7.72 7.72c-.78.78-.78 2.05 0 2.83L4 21.41c.39.39.9.59 1.41.59.51 0 1.02-.2 1.41-.59l7.78-7.78 2.81-2.81c.8-.78.8-2.07 0-2.86zM5.41 20L4 18.59l7.72-7.72 1.47 1.35L5.41 20z\"/>\n",
              "  </svg>\n",
              "      </button>\n",
              "      \n",
              "  <style>\n",
              "    .colab-df-container {\n",
              "      display:flex;\n",
              "      flex-wrap:wrap;\n",
              "      gap: 12px;\n",
              "    }\n",
              "\n",
              "    .colab-df-convert {\n",
              "      background-color: #E8F0FE;\n",
              "      border: none;\n",
              "      border-radius: 50%;\n",
              "      cursor: pointer;\n",
              "      display: none;\n",
              "      fill: #1967D2;\n",
              "      height: 32px;\n",
              "      padding: 0 0 0 0;\n",
              "      width: 32px;\n",
              "    }\n",
              "\n",
              "    .colab-df-convert:hover {\n",
              "      background-color: #E2EBFA;\n",
              "      box-shadow: 0px 1px 2px rgba(60, 64, 67, 0.3), 0px 1px 3px 1px rgba(60, 64, 67, 0.15);\n",
              "      fill: #174EA6;\n",
              "    }\n",
              "\n",
              "    [theme=dark] .colab-df-convert {\n",
              "      background-color: #3B4455;\n",
              "      fill: #D2E3FC;\n",
              "    }\n",
              "\n",
              "    [theme=dark] .colab-df-convert:hover {\n",
              "      background-color: #434B5C;\n",
              "      box-shadow: 0px 1px 3px 1px rgba(0, 0, 0, 0.15);\n",
              "      filter: drop-shadow(0px 1px 2px rgba(0, 0, 0, 0.3));\n",
              "      fill: #FFFFFF;\n",
              "    }\n",
              "  </style>\n",
              "\n",
              "      <script>\n",
              "        const buttonEl =\n",
              "          document.querySelector('#df-69258ff8-cfa3-483d-89f2-2fe7fcf02a89 button.colab-df-convert');\n",
              "        buttonEl.style.display =\n",
              "          google.colab.kernel.accessAllowed ? 'block' : 'none';\n",
              "\n",
              "        async function convertToInteractive(key) {\n",
              "          const element = document.querySelector('#df-69258ff8-cfa3-483d-89f2-2fe7fcf02a89');\n",
              "          const dataTable =\n",
              "            await google.colab.kernel.invokeFunction('convertToInteractive',\n",
              "                                                     [key], {});\n",
              "          if (!dataTable) return;\n",
              "\n",
              "          const docLinkHtml = 'Like what you see? Visit the ' +\n",
              "            '<a target=\"_blank\" href=https://colab.research.google.com/notebooks/data_table.ipynb>data table notebook</a>'\n",
              "            + ' to learn more about interactive tables.';\n",
              "          element.innerHTML = '';\n",
              "          dataTable['output_type'] = 'display_data';\n",
              "          await google.colab.output.renderOutput(dataTable, element);\n",
              "          const docLink = document.createElement('div');\n",
              "          docLink.innerHTML = docLinkHtml;\n",
              "          element.appendChild(docLink);\n",
              "        }\n",
              "      </script>\n",
              "    </div>\n",
              "  </div>\n",
              "  "
            ]
          },
          "metadata": {},
          "execution_count": 4
        }
      ]
    },
    {
      "cell_type": "code",
      "source": [
        "min(data['Close'])"
      ],
      "metadata": {
        "colab": {
          "base_uri": "https://localhost:8080/"
        },
        "id": "iezLYWFC8Jwv",
        "outputId": "c630209e-0bd4-43fd-c231-ac67014a99ae"
      },
      "execution_count": null,
      "outputs": [
        {
          "output_type": "execute_result",
          "data": {
            "text/plain": [
              "100.5"
            ]
          },
          "metadata": {},
          "execution_count": 36
        }
      ]
    },
    {
      "cell_type": "code",
      "source": [
        "#Mengubah tanggal menjadi index\n",
        "con=data['Date']\n",
        "data['Date']=pd.to_datetime(data['Date'])\n",
        "data.set_index('Date', inplace=True)\n",
        "#check datatype of index\n",
        "data.index"
      ],
      "metadata": {
        "colab": {
          "base_uri": "https://localhost:8080/"
        },
        "id": "01mZH9TageI3",
        "outputId": "2fc14e0f-2e27-4a3d-9bd2-5965909fad91"
      },
      "execution_count": null,
      "outputs": [
        {
          "output_type": "execute_result",
          "data": {
            "text/plain": [
              "DatetimeIndex(['2011-12-15', '2011-12-16', '2011-12-19', '2011-12-20',\n",
              "               '2011-12-21', '2011-12-22', '2011-12-23', '2011-12-27',\n",
              "               '2011-12-28', '2011-12-29',\n",
              "               ...\n",
              "               '2018-12-17', '2018-12-18', '2018-12-19', '2018-12-20',\n",
              "               '2018-12-21', '2018-12-24', '2018-12-26', '2018-12-27',\n",
              "               '2018-12-28', '2018-12-31'],\n",
              "              dtype='datetime64[ns]', name='Date', length=1718, freq=None)"
            ]
          },
          "metadata": {},
          "execution_count": 5
        }
      ]
    },
    {
      "cell_type": "code",
      "source": [
        "data.head(3)"
      ],
      "metadata": {
        "colab": {
          "base_uri": "https://localhost:8080/",
          "height": 175
        },
        "id": "kKQ4m7BWgon1",
        "outputId": "3c92bc50-328f-4caa-876a-d6ad93a393e3"
      },
      "execution_count": null,
      "outputs": [
        {
          "output_type": "execute_result",
          "data": {
            "text/plain": [
              "                 Close\n",
              "Date                  \n",
              "2011-12-15  152.330002\n",
              "2011-12-16  155.229996\n",
              "2011-12-19  154.869995"
            ],
            "text/html": [
              "\n",
              "  <div id=\"df-99635a70-7729-4af1-a50c-6109b96ef5c4\">\n",
              "    <div class=\"colab-df-container\">\n",
              "      <div>\n",
              "<style scoped>\n",
              "    .dataframe tbody tr th:only-of-type {\n",
              "        vertical-align: middle;\n",
              "    }\n",
              "\n",
              "    .dataframe tbody tr th {\n",
              "        vertical-align: top;\n",
              "    }\n",
              "\n",
              "    .dataframe thead th {\n",
              "        text-align: right;\n",
              "    }\n",
              "</style>\n",
              "<table border=\"1\" class=\"dataframe\">\n",
              "  <thead>\n",
              "    <tr style=\"text-align: right;\">\n",
              "      <th></th>\n",
              "      <th>Close</th>\n",
              "    </tr>\n",
              "    <tr>\n",
              "      <th>Date</th>\n",
              "      <th></th>\n",
              "    </tr>\n",
              "  </thead>\n",
              "  <tbody>\n",
              "    <tr>\n",
              "      <th>2011-12-15</th>\n",
              "      <td>152.330002</td>\n",
              "    </tr>\n",
              "    <tr>\n",
              "      <th>2011-12-16</th>\n",
              "      <td>155.229996</td>\n",
              "    </tr>\n",
              "    <tr>\n",
              "      <th>2011-12-19</th>\n",
              "      <td>154.869995</td>\n",
              "    </tr>\n",
              "  </tbody>\n",
              "</table>\n",
              "</div>\n",
              "      <button class=\"colab-df-convert\" onclick=\"convertToInteractive('df-99635a70-7729-4af1-a50c-6109b96ef5c4')\"\n",
              "              title=\"Convert this dataframe to an interactive table.\"\n",
              "              style=\"display:none;\">\n",
              "        \n",
              "  <svg xmlns=\"http://www.w3.org/2000/svg\" height=\"24px\"viewBox=\"0 0 24 24\"\n",
              "       width=\"24px\">\n",
              "    <path d=\"M0 0h24v24H0V0z\" fill=\"none\"/>\n",
              "    <path d=\"M18.56 5.44l.94 2.06.94-2.06 2.06-.94-2.06-.94-.94-2.06-.94 2.06-2.06.94zm-11 1L8.5 8.5l.94-2.06 2.06-.94-2.06-.94L8.5 2.5l-.94 2.06-2.06.94zm10 10l.94 2.06.94-2.06 2.06-.94-2.06-.94-.94-2.06-.94 2.06-2.06.94z\"/><path d=\"M17.41 7.96l-1.37-1.37c-.4-.4-.92-.59-1.43-.59-.52 0-1.04.2-1.43.59L10.3 9.45l-7.72 7.72c-.78.78-.78 2.05 0 2.83L4 21.41c.39.39.9.59 1.41.59.51 0 1.02-.2 1.41-.59l7.78-7.78 2.81-2.81c.8-.78.8-2.07 0-2.86zM5.41 20L4 18.59l7.72-7.72 1.47 1.35L5.41 20z\"/>\n",
              "  </svg>\n",
              "      </button>\n",
              "      \n",
              "  <style>\n",
              "    .colab-df-container {\n",
              "      display:flex;\n",
              "      flex-wrap:wrap;\n",
              "      gap: 12px;\n",
              "    }\n",
              "\n",
              "    .colab-df-convert {\n",
              "      background-color: #E8F0FE;\n",
              "      border: none;\n",
              "      border-radius: 50%;\n",
              "      cursor: pointer;\n",
              "      display: none;\n",
              "      fill: #1967D2;\n",
              "      height: 32px;\n",
              "      padding: 0 0 0 0;\n",
              "      width: 32px;\n",
              "    }\n",
              "\n",
              "    .colab-df-convert:hover {\n",
              "      background-color: #E2EBFA;\n",
              "      box-shadow: 0px 1px 2px rgba(60, 64, 67, 0.3), 0px 1px 3px 1px rgba(60, 64, 67, 0.15);\n",
              "      fill: #174EA6;\n",
              "    }\n",
              "\n",
              "    [theme=dark] .colab-df-convert {\n",
              "      background-color: #3B4455;\n",
              "      fill: #D2E3FC;\n",
              "    }\n",
              "\n",
              "    [theme=dark] .colab-df-convert:hover {\n",
              "      background-color: #434B5C;\n",
              "      box-shadow: 0px 1px 3px 1px rgba(0, 0, 0, 0.15);\n",
              "      filter: drop-shadow(0px 1px 2px rgba(0, 0, 0, 0.3));\n",
              "      fill: #FFFFFF;\n",
              "    }\n",
              "  </style>\n",
              "\n",
              "      <script>\n",
              "        const buttonEl =\n",
              "          document.querySelector('#df-99635a70-7729-4af1-a50c-6109b96ef5c4 button.colab-df-convert');\n",
              "        buttonEl.style.display =\n",
              "          google.colab.kernel.accessAllowed ? 'block' : 'none';\n",
              "\n",
              "        async function convertToInteractive(key) {\n",
              "          const element = document.querySelector('#df-99635a70-7729-4af1-a50c-6109b96ef5c4');\n",
              "          const dataTable =\n",
              "            await google.colab.kernel.invokeFunction('convertToInteractive',\n",
              "                                                     [key], {});\n",
              "          if (!dataTable) return;\n",
              "\n",
              "          const docLinkHtml = 'Like what you see? Visit the ' +\n",
              "            '<a target=\"_blank\" href=https://colab.research.google.com/notebooks/data_table.ipynb>data table notebook</a>'\n",
              "            + ' to learn more about interactive tables.';\n",
              "          element.innerHTML = '';\n",
              "          dataTable['output_type'] = 'display_data';\n",
              "          await google.colab.output.renderOutput(dataTable, element);\n",
              "          const docLink = document.createElement('div');\n",
              "          docLink.innerHTML = docLinkHtml;\n",
              "          element.appendChild(docLink);\n",
              "        }\n",
              "      </script>\n",
              "    </div>\n",
              "  </div>\n",
              "  "
            ]
          },
          "metadata": {},
          "execution_count": 6
        }
      ]
    },
    {
      "cell_type": "code",
      "source": [
        "ts = data['Close']\n",
        "ts.head(10)"
      ],
      "metadata": {
        "colab": {
          "base_uri": "https://localhost:8080/"
        },
        "id": "DSLhGFA2hUmV",
        "outputId": "ae160f3e-10bd-4477-d767-ab7a04afed62"
      },
      "execution_count": null,
      "outputs": [
        {
          "output_type": "execute_result",
          "data": {
            "text/plain": [
              "Date\n",
              "2011-12-15    152.330002\n",
              "2011-12-16    155.229996\n",
              "2011-12-19    154.869995\n",
              "2011-12-20    156.979996\n",
              "2011-12-21    157.160004\n",
              "2011-12-22    156.039993\n",
              "2011-12-23    156.309998\n",
              "2011-12-27    154.910004\n",
              "2011-12-28    151.029999\n",
              "2011-12-29    150.339996\n",
              "Name: Close, dtype: float64"
            ]
          },
          "metadata": {},
          "execution_count": 7
        }
      ]
    },
    {
      "cell_type": "code",
      "source": [
        "plt.plot(ts)"
      ],
      "metadata": {
        "colab": {
          "base_uri": "https://localhost:8080/",
          "height": 282
        },
        "id": "3CT0A-skikA-",
        "outputId": "02508161-4338-4080-9f88-cdd847f80db7"
      },
      "execution_count": null,
      "outputs": [
        {
          "output_type": "execute_result",
          "data": {
            "text/plain": [
              "[<matplotlib.lines.Line2D at 0x7f68cd2b8a10>]"
            ]
          },
          "metadata": {},
          "execution_count": 8
        },
        {
          "output_type": "display_data",
          "data": {
            "text/plain": [
              "<Figure size 432x288 with 1 Axes>"
            ],
            "image/png": "[encoded data removed]"
          },
          "metadata": {
            "needs_background": "light"
          }
        }
      ]
    },
    {
      "cell_type": "markdown",
      "source": [
        "##Uji Stationer\n",
        "Ho : data tidak stasioner\n",
        "\n",
        "Ha : data stasioner"
      ],
      "metadata": {
        "id": "7F_jW8oAkJTp"
      }
    },
    {
      "cell_type": "code",
      "source": [
        "#Uji Stationer\n",
        "def test_stationer(timeseries):\n",
        "\n",
        "  rolmean =timeseries.rolling(window=12).mean()\n",
        "  rolstd=timeseries.rolling(window=12).std()\n",
        "\n",
        "  orig = plt.plot(timeseries, color='blue',label='Original')\n",
        "  mean = plt.plot(rolmean, color='red', label='Rolling Mean')\n",
        "  std = plt.plot(rolstd, color='black', label = 'Rolling Std')\n",
        "  plt.legend(loc='best')\n",
        "  plt.title('Rolling Mean & Standard Deviation')\n",
        "  plt.show()\n",
        "\n",
        "  print('hasil dari Dicky-Fuller Test:')\n",
        "  dftest=adfuller(timeseries, autolag='AIC')\n",
        "  dfoutput=pd.Series(dftest[0:4], index=['Test Statistic','p-value','#Lags Used','Number of Observations Used'])\n",
        "  for key,value in dftest[4].items():\n",
        "    dfoutput['Crictical Value (%s)'%key] = value\n",
        "  print(dfoutput)"
      ],
      "metadata": {
        "id": "IWhtVudCjCZZ"
      },
      "execution_count": null,
      "outputs": []
    },
    {
      "cell_type": "code",
      "source": [
        "test_stationer(ts)"
      ],
      "metadata": {
        "colab": {
          "base_uri": "https://localhost:8080/",
          "height": 437
        },
        "id": "iTfwPuPslOnu",
        "outputId": "ff929c89-6edf-453d-bb9a-1a55b543eb0f"
      },
      "execution_count": null,
      "outputs": [
        {
          "output_type": "display_data",
          "data": {
            "text/plain": [
              "<Figure size 432x288 with 1 Axes>"
            ],
            "image/png": "[encoded data removed]"
          },
          "metadata": {
            "needs_background": "light"
          }
        },
        {
          "output_type": "stream",
          "name": "stdout",
          "text": [
            "hasil dari Dicky-Fuller Test:\n",
            "Test Statistic                   -1.823460\n",
            "p-value                           0.368878\n",
            "#Lags Used                        1.000000\n",
            "Number of Observations Used    1716.000000\n",
            "Crictical Value (1%)             -3.434166\n",
            "Crictical Value (5%)             -2.863226\n",
            "Crictical Value (10%)            -2.567667\n",
            "dtype: float64\n"
          ]
        }
      ]
    },
    {
      "cell_type": "markdown",
      "source": [
        "Karena p-value > 0.05, maka H_0 gagal ditolak<br>\n",
        "Dan data tidak stationer"
      ],
      "metadata": {
        "id": "a5ys42cylfek"
      }
    },
    {
      "cell_type": "code",
      "source": [
        "#transformasi log\n",
        "ts_log = np.log(ts)\n",
        "plt.plot(ts_log)\n"
      ],
      "metadata": {
        "colab": {
          "base_uri": "https://localhost:8080/",
          "height": 282
        },
        "id": "l2JKJI2slwkf",
        "outputId": "c4306fcb-4718-4267-e8fb-a7571d28671b"
      },
      "execution_count": null,
      "outputs": [
        {
          "output_type": "execute_result",
          "data": {
            "text/plain": [
              "[<matplotlib.lines.Line2D at 0x7f68ca4effd0>]"
            ]
          },
          "metadata": {},
          "execution_count": 11
        },
        {
          "output_type": "display_data",
          "data": {
            "text/plain": [
              "<Figure size 432x288 with 1 Axes>"
            ],
            "image/png": "[encoded data removed]"
          },
          "metadata": {
            "needs_background": "light"
          }
        }
      ]
    },
    {
      "cell_type": "code",
      "source": [
        "#differencing\n",
        "ts_log_1 = ts_log - ts_log.shift()\n",
        "ts_log_1 = ts_log_1.dropna()\n",
        "plt.plot(ts_log_1)"
      ],
      "metadata": {
        "colab": {
          "base_uri": "https://localhost:8080/",
          "height": 282
        },
        "id": "sW6xIcP7nfRT",
        "outputId": "f769bf5a-5291-43ab-f8ed-964693e739c0"
      },
      "execution_count": null,
      "outputs": [
        {
          "output_type": "execute_result",
          "data": {
            "text/plain": [
              "[<matplotlib.lines.Line2D at 0x7f68ca4b1490>]"
            ]
          },
          "metadata": {},
          "execution_count": 12
        },
        {
          "output_type": "display_data",
          "data": {
            "text/plain": [
              "<Figure size 432x288 with 1 Axes>"
            ],
            "image/png": "[encoded data removed]"
          },
          "metadata": {
            "needs_background": "light"
          }
        }
      ]
    },
    {
      "cell_type": "code",
      "source": [
        "test_stationer(ts_log_1)"
      ],
      "metadata": {
        "colab": {
          "base_uri": "https://localhost:8080/",
          "height": 437
        },
        "id": "wUgeKMDJoCT6",
        "outputId": "9d8ffa0c-a00f-4979-9b43-faae7d205738"
      },
      "execution_count": null,
      "outputs": [
        {
          "output_type": "display_data",
          "data": {
            "text/plain": [
              "<Figure size 432x288 with 1 Axes>"
            ],
            "image/png": "[encoded data removed]"
          },
          "metadata": {
            "needs_background": "light"
          }
        },
        {
          "output_type": "stream",
          "name": "stdout",
          "text": [
            "hasil dari Dicky-Fuller Test:\n",
            "Test Statistic                  -44.337088\n",
            "p-value                           0.000000\n",
            "#Lags Used                        0.000000\n",
            "Number of Observations Used    1716.000000\n",
            "Crictical Value (1%)             -3.434166\n",
            "Crictical Value (5%)             -2.863226\n",
            "Crictical Value (10%)            -2.567667\n",
            "dtype: float64\n"
          ]
        }
      ]
    },
    {
      "cell_type": "code",
      "source": [
        "plt.figure()\n",
        "plt.subplot(211)\n",
        "plot_acf(ts_log_1, ax=plt.gca(), lags=12)\n",
        "plt.subplot(212)\n",
        "plot_pacf(ts_log_1, ax=plt.gca(), lags=12)\n",
        "plt.show()"
      ],
      "metadata": {
        "colab": {
          "base_uri": "https://localhost:8080/",
          "height": 281
        },
        "id": "ExOYcjVwvLFT",
        "outputId": "4a8f171f-571f-43df-f067-34b0a8c577f2"
      },
      "execution_count": null,
      "outputs": [
        {
          "output_type": "display_data",
          "data": {
            "text/plain": [
              "<Figure size 432x288 with 2 Axes>"
            ],
            "image/png": "[encoded data removed]"
          },
          "metadata": {
            "needs_background": "light"
          }
        }
      ]
    },
    {
      "cell_type": "markdown",
      "source": [
        "##ARIMA"
      ],
      "metadata": {
        "id": "yZ5v6DjRpZ1d"
      }
    },
    {
      "cell_type": "code",
      "source": [
        "def evaluate_arima_model(X, arima_order):\n",
        "\t# prepare training dataset\n",
        "\tX = X.astype('float32')\n",
        "\ttrain_size = int(len(X) * 0.7)               #data trainingnya 70%\n",
        "\ttrain, test = X[0:train_size], X[train_size:]\n",
        "\thistory = [x for x in train]\n",
        "\t# make predictions\n",
        "\tpredictions = list()\n",
        "\tfor t in range(len(test)):\n",
        "\t\tmodel = ARIMA(history, order=arima_order)\n",
        "\t\tmodel_fit = model.fit()\n",
        "\t\tyhat = model_fit.forecast()[0]\n",
        "\t\tpredictions.append(yhat)\n",
        "\t\thistory.append(test[t])\n",
        "\t# calculate out of sample error\n",
        "\trmse = sqrt(mean_squared_error(test, predictions))\n",
        "\treturn rmse\n",
        "\n",
        "# evaluate combinations of p, d and q values for an ARIMA model\n",
        "# evaluate combinations of p, d and q values for an ARIMA model\n",
        "def evaluate_models(dataset, p_values, d_values, q_values):\n",
        "\tdataset = dataset.astype('float32')\n",
        "\tbest_score, best_cfg = float(\"inf\"), None\n",
        "\tfor p in p_values:\n",
        "\t\tfor d in d_values:\n",
        "\t\t\tfor q in q_values:\n",
        "\t\t\t\torder = (p,d,q)\n",
        "\t\t\t\ttry:\n",
        "\t\t\t\t\trmse = evaluate_arima_model(dataset, order)\n",
        "\t\t\t\t\tif rmse < best_score:\n",
        "\t\t\t\t\t\tbest_score, best_cfg = rmse, order\n",
        "\t\t\t\t\tprint('ARIMA%s RMSE=%.3f' % (order,rmse))\n",
        "\t\t\t\texcept:\n",
        "\t\t\t\t\tcontinue\n",
        "\tprint('Best ARIMA%s RMSE=%.3f' % (best_cfg, best_score))\n"
      ],
      "metadata": {
        "id": "AjFTLQJiv0tm"
      },
      "execution_count": null,
      "outputs": []
    },
    {
      "cell_type": "code",
      "source": [
        "p_values = range(0, 3)\n",
        "d_values = range(0, 2)\n",
        "q_values = range(0, 3)\n",
        "warnings.filterwarnings(\"ignore\")\n",
        "evaluate_models(ts_log.values, p_values, d_values, q_values)"
      ],
      "metadata": {
        "colab": {
          "base_uri": "https://localhost:8080/"
        },
        "id": "u-hbZoVfbNle",
        "outputId": "a7d375be-8a37-4d11-bf79-ae0ae62600f4"
      },
      "execution_count": null,
      "outputs": [
        {
          "output_type": "stream",
          "name": "stdout",
          "text": [
            "ARIMA(0, 0, 0) RMSE=0.076\n",
            "ARIMA(0, 0, 1) RMSE=0.040\n",
            "ARIMA(0, 0, 2) RMSE=0.026\n",
            "ARIMA(0, 1, 0) RMSE=0.006\n",
            "ARIMA(0, 1, 1) RMSE=0.006\n",
            "ARIMA(0, 1, 2) RMSE=0.006\n",
            "ARIMA(1, 0, 0) RMSE=0.006\n",
            "ARIMA(1, 0, 1) RMSE=0.006\n",
            "ARIMA(1, 0, 2) RMSE=0.006\n",
            "ARIMA(1, 1, 0) RMSE=0.006\n",
            "ARIMA(1, 1, 1) RMSE=0.006\n",
            "ARIMA(2, 0, 0) RMSE=0.006\n",
            "ARIMA(2, 0, 1) RMSE=0.006\n",
            "ARIMA(2, 1, 0) RMSE=0.006\n",
            "ARIMA(2, 1, 1) RMSE=0.006\n",
            "Best ARIMA(2, 0, 0) RMSE=0.006\n"
          ]
        }
      ]
    },
    {
      "cell_type": "code",
      "source": [
        "model_ARIMA = ARIMA(ts_log, order=(2,1,0))\n",
        "results_ARIMA = model_ARIMA.fit(disp=-1)\n",
        "predictions_ARIMA_diff = pd.Series(results_ARIMA.fittedvalues,copy=True)\n",
        "plt.plot(ts_log_1)             \n",
        "plt.plot(predictions_ARIMA_diff, color='red')               #fitting dengan data yang udah difference sekali dan log"
      ],
      "metadata": {
        "id": "T3Utb00mVALv",
        "colab": {
          "base_uri": "https://localhost:8080/",
          "height": 282
        },
        "outputId": "984fdad8-6f1f-420b-ce60-23aaa19ddf63"
      },
      "execution_count": null,
      "outputs": [
        {
          "output_type": "execute_result",
          "data": {
            "text/plain": [
              "[<matplotlib.lines.Line2D at 0x7f68c5c69650>]"
            ]
          },
          "metadata": {},
          "execution_count": 39
        },
        {
          "output_type": "display_data",
          "data": {
            "text/plain": [
              "<Figure size 432x288 with 1 Axes>"
            ],
            "image/png": "[encoded data removed]"
          },
          "metadata": {
            "needs_background": "light"
          }
        }
      ]
    },
    {
      "cell_type": "code",
      "source": [
        "predictions_ARIMA_diff_cum_sum = predictions_ARIMA_diff.cumsum()                                \n",
        "predictions_ARIMA_log = pd.Series(ts_log.iloc[0],index=ts_log.index)\n",
        "predictions_ARIMA_log = predictions_ARIMA_log.add(predictions_ARIMA_diff_cum_sum,fill_value=0)\n",
        "plt.plot(ts_log)             \n",
        "plt.plot(predictions_ARIMA_log, color='red')      "
      ],
      "metadata": {
        "colab": {
          "base_uri": "https://localhost:8080/",
          "height": 282
        },
        "id": "nXrDK5rBo0Ht",
        "outputId": "018691cd-a82c-4a64-b7de-8843f8c92ebc"
      },
      "execution_count": null,
      "outputs": [
        {
          "output_type": "execute_result",
          "data": {
            "text/plain": [
              "[<matplotlib.lines.Line2D at 0x7f68c5be9350>]"
            ]
          },
          "metadata": {},
          "execution_count": 40
        },
        {
          "output_type": "display_data",
          "data": {
            "text/plain": [
              "<Figure size 432x288 with 1 Axes>"
            ],
            "image/png": "[encoded data removed]"
          },
          "metadata": {
            "needs_background": "light"
          }
        }
      ]
    },
    {
      "cell_type": "code",
      "source": [
        "predictions_ARIMA = np.exp(predictions_ARIMA_log)\n",
        "plt.plot(ts)\n",
        "plt.plot(predictions_ARIMA, color='red')    "
      ],
      "metadata": {
        "colab": {
          "base_uri": "https://localhost:8080/",
          "height": 282
        },
        "id": "s_5UbXvso-eB",
        "outputId": "3ebea7f3-cbbd-4bd0-d17f-f14d9dd52e93"
      },
      "execution_count": null,
      "outputs": [
        {
          "output_type": "execute_result",
          "data": {
            "text/plain": [
              "[<matplotlib.lines.Line2D at 0x7f68c5b559d0>]"
            ]
          },
          "metadata": {},
          "execution_count": 41
        },
        {
          "output_type": "display_data",
          "data": {
            "text/plain": [
              "<Figure size 432x288 with 1 Axes>"
            ],
            "image/png": "[encoded data removed]"
          },
          "metadata": {
            "needs_background": "light"
          }
        }
      ]
    },
    {
      "cell_type": "code",
      "source": [
        "print(results_ARIMA.summary())"
      ],
      "metadata": {
        "colab": {
          "base_uri": "https://localhost:8080/"
        },
        "id": "YWNdHaElpDkd",
        "outputId": "40e5557e-065c-42f6-a3e3-69479b377e25"
      },
      "execution_count": null,
      "outputs": [
        {
          "output_type": "stream",
          "name": "stdout",
          "text": [
            "                             ARIMA Model Results                              \n",
            "==============================================================================\n",
            "Dep. Variable:                D.Close   No. Observations:                 1717\n",
            "Model:                 ARIMA(2, 1, 0)   Log Likelihood                5540.866\n",
            "Method:                       css-mle   S.D. of innovations              0.010\n",
            "Date:                Sun, 10 Apr 2022   AIC                         -11073.733\n",
            "Time:                        05:33:08   BIC                         -11051.939\n",
            "Sample:                             1   HQIC                        -11065.669\n",
            "                                                                              \n",
            "=================================================================================\n",
            "                    coef    std err          z      P>|z|      [0.025      0.975]\n",
            "---------------------------------------------------------------------------------\n",
            "const            -0.0001      0.000     -0.635      0.526      -0.001       0.000\n",
            "ar.L1.D.Close    -0.0693      0.024     -2.871      0.004      -0.117      -0.022\n",
            "ar.L2.D.Close    -0.0285      0.024     -1.180      0.238      -0.076       0.019\n",
            "                                    Roots                                    \n",
            "=============================================================================\n",
            "                  Real          Imaginary           Modulus         Frequency\n",
            "-----------------------------------------------------------------------------\n",
            "AR.1           -1.2170           -5.7990j            5.9253           -0.2829\n",
            "AR.2           -1.2170           +5.7990j            5.9253            0.2829\n",
            "-----------------------------------------------------------------------------\n"
          ]
        }
      ]
    },
    {
      "cell_type": "markdown",
      "source": [
        "##SARIMA"
      ],
      "metadata": {
        "id": "Ly_4pnyOpTi5"
      }
    },
    {
      "cell_type": "code",
      "source": [
        "decomposition = seasonal_decompose(ts, model='multiplicative', freq=1)\n",
        "\n",
        "trend = decomposition.trend\n",
        "seasonal = decomposition.seasonal\n",
        "residual = decomposition.resid\n",
        "\n",
        "plt.subplot(411)\n",
        "plt.plot(ts, label='Original')\n",
        "plt.legend(loc='best')\n",
        "plt.subplot(412)\n",
        "plt.plot(trend, label='Trend')\n",
        "plt.legend(loc='best')\n",
        "plt.subplot(413)\n",
        "plt.plot(seasonal,label='Seasonality')\n",
        "plt.legend(loc='best')\n",
        "plt.subplot(414)\n",
        "plt.plot(residual, label='Residuals')\n",
        "plt.legend(loc='best')\n",
        "plt.tight_layout()"
      ],
      "metadata": {
        "colab": {
          "base_uri": "https://localhost:8080/",
          "height": 297
        },
        "id": "BPboAlD5pSNb",
        "outputId": "f08a675e-5694-45e0-9f74-cd743c0eab05"
      },
      "execution_count": null,
      "outputs": [
        {
          "output_type": "display_data",
          "data": {
            "text/plain": [
              "<Figure size 432x288 with 4 Axes>"
            ],
            "image/png": "[encoded data removed]"
          },
          "metadata": {
            "needs_background": "light"
          }
        }
      ]
    },
    {
      "cell_type": "code",
      "source": [
        "train_size = int(len(ts) * 0.7)               #data trainingnya 70%\n",
        "train, test = ts_log[:train_size], ts_log[train_size:]\n",
        "history = [x for x in train]\n",
        "# make predictions\n",
        "predictions = list()\n",
        "for t in range(len(test)):\n",
        "\t\tmodel = SARIMAX(history, order=(1,1,1), seasonal_order=(1,1,1,1))\n",
        "\t\tmodel_fit = model.fit()\n",
        "\t\tyhat = model_fit.forecast()[0]\n",
        "\t\tpredictions.append(yhat)\n",
        "\t\thistory.append(test[t])\n",
        "\n",
        "# calculate out of sample error\n",
        "rmse = sqrt(mean_squared_error(test, predictions))\n",
        "print(rmse)"
      ],
      "metadata": {
        "id": "hTKKZBwCpkCj",
        "colab": {
          "base_uri": "https://localhost:8080/"
        },
        "outputId": "7cc2c7e5-80fe-4f38-83a7-71e89fdb2b06"
      },
      "execution_count": null,
      "outputs": [
        {
          "output_type": "stream",
          "name": "stdout",
          "text": [
            "0.006493230507417152\n"
          ]
        }
      ]
    },
    {
      "cell_type": "code",
      "source": [
        "#Bikin model SARIMA\n",
        "model_sarima = SARIMAX(ts_log, order=(1,1,1), seasonal_order=(1,1,1,1))\n",
        "results_SARIMA = model_sarima.fit(disp=-1)\n",
        "predictions_SARIMA_diff = pd.Series(results_SARIMA.fittedvalues,copy=True)\n",
        "plt.plot(ts_log)             \n",
        "plt.plot(predictions_SARIMA_diff, color='red')               #fitting dengan data log"
      ],
      "metadata": {
        "id": "hQGCfCFS2hHN",
        "colab": {
          "base_uri": "https://localhost:8080/",
          "height": 282
        },
        "outputId": "7a949778-3b82-4a1b-ba0a-c737c77b7379"
      },
      "execution_count": null,
      "outputs": [
        {
          "output_type": "execute_result",
          "data": {
            "text/plain": [
              "[<matplotlib.lines.Line2D at 0x7f68c575e990>]"
            ]
          },
          "metadata": {},
          "execution_count": 53
        },
        {
          "output_type": "display_data",
          "data": {
            "text/plain": [
              "<Figure size 432x288 with 1 Axes>"
            ],
            "image/png": "[encoded data removed]"
          },
          "metadata": {
            "needs_background": "light"
          }
        }
      ]
    },
    {
      "cell_type": "code",
      "source": [
        "#SARIMA + trend untuk data asli\n",
        "model_sarima_trend = SARIMAX(ts, order=(1,1,1), seasonal_order=(1,1,1,2), trend='t')\n",
        "results_SARIMA_t = model_sarima_trend.fit(disp=-1)\n",
        "predictions_SARIMA_diff_t = pd.Series(results_SARIMA_t.fittedvalues,copy=True)\n",
        "plt.plot(ts)\n",
        "             \n",
        "plt.plot(predictions_SARIMA_diff_t, color='red')               #fitting dengan data asli"
      ],
      "metadata": {
        "id": "49oNBAdT2qmZ",
        "colab": {
          "base_uri": "https://localhost:8080/",
          "height": 282
        },
        "outputId": "78b10811-b5ed-4133-9a47-fd670f81d95a"
      },
      "execution_count": null,
      "outputs": [
        {
          "output_type": "execute_result",
          "data": {
            "text/plain": [
              "[<matplotlib.lines.Line2D at 0x7f68c563d2d0>]"
            ]
          },
          "metadata": {},
          "execution_count": 57
        },
        {
          "output_type": "display_data",
          "data": {
            "text/plain": [
              "<Figure size 432x288 with 1 Axes>"
            ],
            "image/png": "[encoded data removed]"
          },
          "metadata": {
            "needs_background": "light"
          }
        }
      ]
    },
    {
      "cell_type": "code",
      "source": [
        "print(results_SARIMA_t.summary())"
      ],
      "metadata": {
        "id": "2oouFoae21il",
        "colab": {
          "base_uri": "https://localhost:8080/"
        },
        "outputId": "c9f1af03-0106-4b46-af8b-e33ef4563df0"
      },
      "execution_count": null,
      "outputs": [
        {
          "output_type": "stream",
          "name": "stdout",
          "text": [
            "                                 Statespace Model Results                                \n",
            "=========================================================================================\n",
            "Dep. Variable:                             Close   No. Observations:                 1718\n",
            "Model:             SARIMAX(1, 1, 1)x(1, 1, 1, 2)   Log Likelihood               -3063.599\n",
            "Date:                           Sun, 10 Apr 2022   AIC                           6139.198\n",
            "Time:                                   05:08:58   BIC                           6171.881\n",
            "Sample:                                        0   HQIC                          6151.292\n",
            "                                          - 1718                                         \n",
            "Covariance Type:                             opg                                         \n",
            "==============================================================================\n",
            "                 coef    std err          z      P>|z|      [0.025      0.975]\n",
            "------------------------------------------------------------------------------\n",
            "drift       6.101e-07    1.9e-05      0.032      0.974   -3.67e-05    3.79e-05\n",
            "ar.L1          0.0584      3.125      0.019      0.985      -6.067       6.184\n",
            "ma.L1         -0.1253      3.126     -0.040      0.968      -6.251       6.001\n",
            "ar.S.L2       -0.0290      0.217     -0.134      0.893      -0.454       0.396\n",
            "ma.S.L2       -0.7362      0.042    -17.326      0.000      -0.819      -0.653\n",
            "sigma2         3.2244      0.083     38.778      0.000       3.061       3.387\n",
            "===================================================================================\n",
            "Ljung-Box (Q):                       98.41   Jarque-Bera (JB):             10431.82\n",
            "Prob(Q):                              0.00   Prob(JB):                         0.00\n",
            "Heteroskedasticity (H):               0.21   Skew:                            -0.36\n",
            "Prob(H) (two-sided):                  0.00   Kurtosis:                        15.06\n",
            "===================================================================================\n",
            "\n",
            "Warnings:\n",
            "[1] Covariance matrix calculated using the outer product of gradients (complex-step).\n"
          ]
        }
      ]
    },
    {
      "cell_type": "code",
      "source": [
        "#dengan model ARIMA(2,1,1)\n",
        "predict_dif = results_ARIMA.predict(start=1718,end=1800)\n",
        "predictions_dif_cum_sum = predict_dif.cumsum()                   #prediksi differencingnya\n",
        "pred_log = [ts_log[-1]]\n",
        "for i, j in enumerate(predictions_dif_cum_sum):                  #prediksi data lognya\n",
        "  a = pred_log[i] + j\n",
        "  pred_log.append(a)\n",
        "predict_exp = pd.Series(np.exp(pred_log[1:]), index=predict_dif.index)  #prediksi data aslinya\n",
        "print(predict_exp)"
      ],
      "metadata": {
        "id": "wG9Hrr4d23FH",
        "colab": {
          "base_uri": "https://localhost:8080/"
        },
        "outputId": "4eb990ec-2828-4dc5-d36b-d05040e280a9"
      },
      "execution_count": null,
      "outputs": [
        {
          "output_type": "stream",
          "name": "stdout",
          "text": [
            "1717    121.303274\n",
            "1718    121.254358\n",
            "1719    121.267501\n",
            "1720    121.195260\n",
            "1721    121.167869\n",
            "           ...    \n",
            "1795     80.835445\n",
            "1796     79.993141\n",
            "1797     79.149050\n",
            "1798     78.303408\n",
            "1799     77.456462\n",
            "Length: 83, dtype: float64\n"
          ]
        }
      ]
    },
    {
      "cell_type": "code",
      "source": [
        "#prediksi dengan SARIMA+trend\n",
        "pred_2 = results_SARIMA_t.predict(start=1718,end=1800)\n",
        "print(pred_2)"
      ],
      "metadata": {
        "id": "s9SI7DvP-k7e",
        "colab": {
          "base_uri": "https://localhost:8080/"
        },
        "outputId": "c65df55c-56b8-40f3-9dbc-2e0a74fc61ed"
      },
      "execution_count": null,
      "outputs": [
        {
          "output_type": "stream",
          "name": "stdout",
          "text": [
            "1718    121.265045\n",
            "1719    121.899466\n",
            "1720    121.905577\n",
            "1721    122.526825\n",
            "1722    122.534230\n",
            "           ...    \n",
            "1796    147.355940\n",
            "1797    148.019697\n",
            "1798    148.069231\n",
            "1799    148.734121\n",
            "1800    148.784789\n",
            "Length: 83, dtype: float64\n"
          ]
        }
      ]
    }
  ]
}